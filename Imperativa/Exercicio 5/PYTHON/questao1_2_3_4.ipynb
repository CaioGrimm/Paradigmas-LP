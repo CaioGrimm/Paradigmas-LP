{
 "cells": [
  {
   "cell_type": "code",
   "execution_count": 64,
   "metadata": {},
   "outputs": [],
   "source": [
    "import numpy as np\n",
    "arquivo = open(\"aluno.txt\",\"r\")\n",
    "conteudo = arquivo.readlines()"
   ]
  },
  {
   "cell_type": "code",
   "execution_count": 77,
   "metadata": {},
   "outputs": [
    {
     "name": "stdout",
     "output_type": "stream",
     "text": [
      "MATRICULA: 21853992\n",
      "NOME: CAIO MARCELLO GRIMM SOUZA E SILVA\n",
      "Atv1: 10\n",
      "Atv2: 10\n",
      "Atv3: 10\n",
      "\n",
      "11\n"
     ]
    }
   ],
   "source": [
    "#1. Utilizando um mecanismo de seleção de duas vias, imprima os dados referentes a você(s)\n",
    "for i in range(len(conteudo)):\n",
    "    if(conteudo[i].split(',')[1] == 'CAIO MARCELLO GRIMM SOUZA E SILVA'):\n",
    "        print(\"MATRICULA: {}\\nNOME: {}\\nAtv1: {}\\nAtv2: {}\\nAtv3: {}\".format(conteudo[i].split(',')[0],conteudo[i].split(',')[1],conteudo[i].split(',')[2],conteudo[i].split(',')[3],conteudo[i].split(',')[4]))\n",
    "        break\n",
    "    "
   ]
  },
  {
   "cell_type": "code",
   "execution_count": 66,
   "metadata": {},
   "outputs": [
    {
     "name": "stdout",
     "output_type": "stream",
     "text": [
      "ALBERTO DE ALMEIDA CAMPOS GONCALVES\n",
      "ALEXANDRE DA SILVA TUPINAMBA\n",
      "ARTUR DIEGO DE SOUZA ANDRADE\n",
      "BEATRIZ BRAGA BATISTA DE SOUZA\n",
      "ERIKY RODRIGUES DE SOUZA\n",
      "IGOR DE SOUZA LIMA\n",
      "JOSEPH VIANA LEVINTHAL DE OLIVEIRA\n",
      "JULIANA PEREIRA DE MAGALHAES\n",
      "LIGIA MARCIA DO NASCIMENTO TEIXEIRA\n",
      "LUIS GUILHERME FERREIRA DE SENA\n",
      "MARCOS AUGUSTO DE SOUZA PINTO\n",
      "PAULA JAQUELINE DA SILVA E SILVA\n",
      "VINICIUS DE MEDEIROS HERNANDES\n",
      "ANILTON CARLOS DE LIMA REIS\n",
      "LUCAS LUIS DE SOUZA BARRETO\n"
     ]
    }
   ],
   "source": [
    "#2. Utilizando um mecanismo de seleção de duas vias, imprima a matrícula e o nome dos alunos\n",
    "#que possuem as preposições DA, DE e DO no nome\n",
    "for i in range(len(conteudo)):\n",
    "    for j in range(len(conteudo[i].split(',')[1].split(' '))):\n",
    "        if(conteudo[i].split(',')[1].split(' ')[j] == 'DE' or conteudo[i].split(',')[1].split(' ')[j] == 'DO' or conteudo[i].split(',')[1].split(' ')[j] == 'DA'):\n",
    "            print(conteudo[i].split(',')[1])    "
   ]
  },
  {
   "cell_type": "code",
   "execution_count": 91,
   "metadata": {},
   "outputs": [
    {
     "name": "stdout",
     "output_type": "stream",
     "text": [
      "Qnt Notas 0: 40\n",
      "Qnt Notas 9: 3\n",
      "Qnt Notas 10: 98\n",
      "\n"
     ]
    }
   ],
   "source": [
    "#3. Utilizando iteração por contador e seleção múltipla, qual o total (número) de notas 10, 9 e 0\n",
    "#(zero) atribuídas no arquivo?\n",
    "notas0 = 0\n",
    "notas9 = 0\n",
    "notas10 = 0\n",
    "for i in range(len(conteudo)):\n",
    "    for j in range(2,len(conteudo[i].split(','))):\n",
    "        if(conteudo[i].split(',')[j] == '0' or conteudo[i].split(',')[j] == '0\\n'):\n",
    "            notas0+=1\n",
    "        if(conteudo[i].split(',')[j] == '9' or conteudo[i].split(',')[j] == '9\\n'):\n",
    "            notas9+=1\n",
    "        if(conteudo[i].split(',')[j] == '10' or conteudo[i].split(',')[j] == '10\\n' ):\n",
    "            notas10+=1 \n",
    "print(\"Qnt Notas 0: {}\\nQnt Notas 9: {}\\nQnt Notas 10: {}\\n\".format(notas0,notas9,notas10))  "
   ]
  },
  {
   "cell_type": "code",
   "execution_count": 103,
   "metadata": {},
   "outputs": [
    {
     "name": "stdout",
     "output_type": "stream",
     "text": [
      "MATRICULA: 21952430\n",
      "NOME: ADRIELLY MORAES LUSTOZA\n",
      "\n",
      "MATRICULA: 21454639\n",
      "NOME: AFONSO MAFRA SILVA\n",
      "\n",
      "MATRICULA: 21754997\n",
      "NOME: AGNALDO BRITO JUNIOR\n",
      "\n",
      "MATRICULA: 21602638\n",
      "NOME: ALBERTO DE ALMEIDA CAMPOS GONCALVES\n",
      "\n",
      "MATRICULA: 21952163\n",
      "NOME: ALEXANDRE DA SILVA TUPINAMBA\n",
      "\n",
      "MATRICULA: 22050328\n",
      "NOME: ALICE TELES LUCENA\n",
      "\n",
      "MATRICULA: 21853342\n",
      "NOME: ANTONIO VINICIUS CABRAL ANSELMO\n",
      "\n",
      "MATRICULA: 21751991\n",
      "NOME: ARTUR DIEGO DE SOUZA ANDRADE\n",
      "\n",
      "MATRICULA: 22054030\n",
      "NOME: BEATRIZ BRAGA BATISTA DE SOUZA\n",
      "\n",
      "MATRICULA: 21853992\n",
      "NOME: CAIO MARCELLO GRIMM SOUZA E SILVA\n",
      "\n",
      "MATRICULA: 21552409\n",
      "NOME: DAVID PEREIRA BESSA\n",
      "\n",
      "MATRICULA: 21950630\n",
      "NOME: ERIKY RODRIGUES DE SOUZA\n",
      "\n",
      "MATRICULA: 21953182\n",
      "NOME: FELIPE ANDRADE SALEM\n",
      "\n",
      "MATRICULA: 21854868\n",
      "NOME: GABRIEL CESAR TAVARES FERREIRA\n",
      "\n",
      "MATRICULA: 22050102\n",
      "NOME: GABRIEL LUCIANO NUNES\n",
      "\n",
      "MATRICULA: 22052563\n",
      "NOME: GIOVANNA ANDRADE SANTOS\n",
      "\n",
      "MATRICULA: 22052564\n",
      "NOME: GUILHERME SILVEIRA DUARTE\n",
      "\n",
      "MATRICULA: 21601061\n",
      "NOME: HELIO ENDRIO CARDOSO RODRIGUES\n",
      "\n",
      "MATRICULA: 22052565\n",
      "NOME: IGOR DE SOUZA LIMA\n",
      "\n",
      "MATRICULA: 21453383\n",
      "NOME: INGRID LIMA DOS SANTOS\n",
      "\n",
      "MATRICULA: 21602643\n",
      "NOME: JONATHAS MANUEL VASCONCELOS MONTEIRO\n",
      "\n",
      "MATRICULA: 22052567\n",
      "NOME: JOSE MATEUS CORDOVA RODRIGUES\n",
      "\n",
      "MATRICULA: 22052568\n",
      "NOME: JOSE RICARDO SAMPAIO COUTINHO II\n",
      "\n",
      "MATRICULA: 21553691\n",
      "NOME: JOSEPH VIANA LEVINTHAL DE OLIVEIRA\n",
      "\n",
      "MATRICULA: 22052570\n",
      "NOME: JULIANA PEREIRA DE MAGALHAES\n",
      "\n",
      "MATRICULA: 21752477\n",
      "NOME: LIGIA MARCIA DO NASCIMENTO TEIXEIRA\n",
      "\n",
      "MATRICULA: 22051490\n",
      "NOME: LUCCA DOURADO CUNHA\n",
      "\n",
      "MATRICULA: 21601492\n",
      "NOME: LUIS GUILHERME FERREIRA DE SENA\n",
      "\n",
      "MATRICULA: 22050949\n",
      "NOME: MARCOS ANDRE ARAUJO COSTA\n",
      "\n",
      "MATRICULA: 21755102\n",
      "NOME: MARCOS AUGUSTO DE SOUZA PINTO\n",
      "\n",
      "MATRICULA: 22052573\n",
      "NOME: MATHEUS SILVA DOS SANTOS\n",
      "\n",
      "MATRICULA: 22052574\n",
      "NOME: NATHALIA RODRIGUES MACHADO DOS SANTOS\n",
      "\n",
      "MATRICULA: 22051491\n",
      "NOME: NAVVAB PORTELA SALEHI\n",
      "\n",
      "MATRICULA: 21852449\n",
      "NOME: PAULA JAQUELINE DA SILVA E SILVA\n",
      "\n",
      "MATRICULA: 21650080\n",
      "NOME: PHELIPE SILVA MALHEIROS\n",
      "\n",
      "MATRICULA: 21754331\n",
      "NOME: RICHARD LUCAS LIMA AUZIER\n",
      "\n",
      "MATRICULA: 21552405\n",
      "NOME: SUZIANE VICTORIA LIMA CUNDIFF\n",
      "\n",
      "MATRICULA: 22054144\n",
      "NOME: VINICIUS DE MEDEIROS HERNANDES\n",
      "\n",
      "MATRICULA: 21753626\n",
      "NOME: VINICIUS FEITOSA MONTEIRO\n",
      "\n",
      "MATRICULA: 21854116\n",
      "NOME: ANDRE LUIZ MIRANDA BRANDAO\n",
      "\n",
      "MATRICULA: 21750043\n",
      "NOME: ANILTON CARLOS DE LIMA REIS\n",
      "\n",
      "MATRICULA: 21854114\n",
      "NOME: GABRIEL BASTOS CERQUINHO\n",
      "\n",
      "MATRICULA: 21457684\n",
      "NOME: JOSE RICARDO FERREIRA NOBRE FILHO\n",
      "\n",
      "MATRICULA: 21751912\n",
      "NOME: KENNEDY COELHO NOLASCO\n",
      "\n",
      "MATRICULA: 21751911\n",
      "NOME: LAURA LIMA GUEDES\n",
      "\n",
      "MATRICULA: 21850961\n",
      "NOME: LUCAS LUIS DE SOUZA BARRETO\n",
      "\n"
     ]
    }
   ],
   "source": [
    "#4. Utilizando iteração controlada logicamente, imprima às matrículas dos alunos até a somatória\n",
    "#das notas de todos ser menor que 1000.\n",
    "somaNotas = 0\n",
    "for i in range(1,len(conteudo)):\n",
    "    for j in range(2,len(conteudo[i].split(','))):\n",
    "        somaNotas+=int(conteudo[i].split(',')[j])\n",
    "        if(somaNotas<1000 and j==2):\n",
    "            print(\"MATRICULA: {}\\nNOME: {}\\n\".format(conteudo[i].split(',')[0],conteudo[i].split(',')[1]))\n",
    "        \n",
    "            "
   ]
  },
  {
   "cell_type": "code",
   "execution_count": 69,
   "metadata": {},
   "outputs": [],
   "source": [
    "arquivo.close()"
   ]
  }
 ],
 "metadata": {
  "kernelspec": {
   "display_name": "Python 3.10.2 64-bit",
   "language": "python",
   "name": "python3"
  },
  "language_info": {
   "codemirror_mode": {
    "name": "ipython",
    "version": 3
   },
   "file_extension": ".py",
   "mimetype": "text/x-python",
   "name": "python",
   "nbconvert_exporter": "python",
   "pygments_lexer": "ipython3",
   "version": "3.10.2"
  },
  "orig_nbformat": 4,
  "vscode": {
   "interpreter": {
    "hash": "898e58e1e32941f56aba553d48693483bb9c026c2e5881ea5f73578134edad48"
   }
  }
 },
 "nbformat": 4,
 "nbformat_minor": 2
}
