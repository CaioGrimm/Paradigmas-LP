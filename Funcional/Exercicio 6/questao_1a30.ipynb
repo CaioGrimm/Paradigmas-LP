{
 "cells": [
  {
   "cell_type": "code",
   "execution_count": 7,
   "metadata": {},
   "outputs": [],
   "source": [
    "from functools import reduce"
   ]
  },
  {
   "cell_type": "markdown",
   "metadata": {},
   "source": [
    "1. Defina a função soma_nat que recebe como argumento um número natural n e devolve a soma\n",
    "de todos os números naturais até n.\n",
    "Exemplo: soma_nat(10) = 1+2+3+4+5+6+7+8+9+10=55"
   ]
  },
  {
   "cell_type": "code",
   "execution_count": null,
   "metadata": {},
   "outputs": [],
   "source": [
    "def soma_nat(n):\n",
    "    return reduce(lambda x,y: x+y,list(range(1,n+1)))\n",
    "print(soma_nat(10))\n",
    "        "
   ]
  },
  {
   "cell_type": "markdown",
   "metadata": {},
   "source": [
    "2. Defina a função quadrados que recebe como argumento um número natural n devolve a lista\n",
    "dos n primeiros quadrados perfeitos.\n",
    "Exemplo: quadrados(5) = [1, 4, 9, 16, 25]\n"
   ]
  },
  {
   "cell_type": "code",
   "execution_count": null,
   "metadata": {},
   "outputs": [],
   "source": [
    "def lista_quadrados(n):\n",
    "    return list(map(lambda x: x**2,list(range(1,n+1))))\n",
    "print(lista_quadrados(5))"
   ]
  },
  {
   "cell_type": "markdown",
   "metadata": {},
   "source": [
    "3. Defina a função quadrados_inv que recebe como argumento um número natural n devolve a\n",
    "lista dos n primeiros quadrados perfeitos, por ordem decrescente.\n",
    "Exemplo: quadrados_inv(5) = [25, 16, 9, 4, 1]\n"
   ]
  },
  {
   "cell_type": "code",
   "execution_count": null,
   "metadata": {},
   "outputs": [],
   "source": [
    "def lista_quadrados_inv(n):\n",
    "    return list(map(lambda x: x**2,list(range(n,0,-1))))\n",
    "print(lista_quadrados_inv(5))"
   ]
  },
  {
   "cell_type": "markdown",
   "metadata": {},
   "source": [
    "4. Defina a função num_perf que recebe como argumento um número inteiro positivo e devolve\n",
    "True se esse número for um número perfeito e False em caso contrário. Lembre que um número\n",
    "perfeito é um número natural que é igual à soma de todos os seus divisores próprios, isto é, a\n",
    "soma de todos os divisores excluindo o próprio número. Pode-se definir funções auxiliares,\n",
    "desde que definidas no paradigma funcional.\n",
    "Exemplo: num_perf(6) = TRUE … (1+2+3=6)\n",
    "num_perf(5) = FALSE\n"
   ]
  },
  {
   "cell_type": "code",
   "execution_count": null,
   "metadata": {},
   "outputs": [],
   "source": [
    "def is_perf(n):\n",
    "    return [x for x in list(range(n-1,0,-1)) if n%x==0]\n",
    "\n",
    "def num_perf(m):\n",
    "    if reduce(lambda x,y: x+y,is_perf(m)) == m:\n",
    "        return True\n",
    "    else:\n",
    "        return False\n",
    "print(num_perf(6))\n",
    "    "
   ]
  },
  {
   "cell_type": "markdown",
   "metadata": {},
   "source": [
    "5. Defina a função inverte_lista que recebe como argumento uma lista e devolve essa lista\n",
    "invertida.\n",
    "Exemplo: inverteLista([1,2,3]) = [3, 2, 1]"
   ]
  },
  {
   "cell_type": "code",
   "execution_count": null,
   "metadata": {},
   "outputs": [],
   "source": [
    "def inverte_lista(lista):\n",
    "    return [x for x in reversed(lista)]\n",
    "print(inverte_lista(list(range(1,4))))  \n",
    "# Provavelmente o Sr nao irá aceitar essa questão, pq utilizei uma função que já inverte a lista kkkkkkk\n",
    "# então dei uma pesquisada de como manipular uma lista\n",
    "# https://raccoon.ninja/pt/dev-pt/manipulando-listas-com-python-dev/\n",
    "def inverte_lista2(lista):\n",
    "    if len(lista) <= 1: return lista\n",
    "    return lista[-1:] + inverte_lista2(lista[:-1])\n",
    "print(inverte_lista2(list(range(1,10))))  "
   ]
  },
  {
   "cell_type": "markdown",
   "metadata": {},
   "source": [
    "6. Defina a função indices_pares que recebe como argumento uma lista de números inteiros w e\n",
    "devolve a lista dos elementos de w em posições pares.\n",
    "Exemplo: indices_pares([4,3,7,1,2,9]) = [4, 7, 2]"
   ]
  },
  {
   "cell_type": "code",
   "execution_count": null,
   "metadata": {},
   "outputs": [],
   "source": [
    "def indices_pares(lista):\n",
    "    return [x for x in lista[::2]]\n",
    "\n",
    "print(indices_pares([4,3,7,1,2,9]))"
   ]
  },
  {
   "cell_type": "markdown",
   "metadata": {},
   "source": [
    "7. Defina a função triangulo que recebe como argumento um número natural n e devolve uma lista\n",
    "em que o primeiro elemento é a lista [1], o segundo elemento é a lista [1, 2] e assim\n",
    "sucessivamente até n.\n",
    "Exemplo: triangulo(4) = [[1], [1, 2], [1, 2, 3], [1, 2, 3, 4]]"
   ]
  },
  {
   "cell_type": "code",
   "execution_count": 19,
   "metadata": {},
   "outputs": [
    {
     "name": "stdout",
     "output_type": "stream",
     "text": [
      "[[1], [1, 2], [1, 2, 3], [1, 2, 3, 4], [1, 2, 3, 4, 5]]\n"
     ]
    }
   ],
   "source": [
    "def triangulo(n):\n",
    "    return [[x+1 for x in list(range(i+1))] for i in list(range(n))]\n",
    "print(triangulo(5))"
   ]
  },
  {
   "cell_type": "markdown",
   "metadata": {},
   "source": [
    "8. Defina a função prod_lista que recebe como argumento uma lista de números inteiros e devolve\n",
    "o produto dos seus elementos.\n",
    "Exemplo: prod_lista([2,4,6]) = 48\n",
    "prod_lista([]) = 1"
   ]
  },
  {
   "cell_type": "code",
   "execution_count": null,
   "metadata": {},
   "outputs": [],
   "source": [
    "def prod_lista(lista):\n",
    "    if not lista: return 1\n",
    "    return reduce(lambda x,y: x*y,lista)\n",
    "print(prod_lista([2,4,6]))"
   ]
  },
  {
   "cell_type": "markdown",
   "metadata": {},
   "source": [
    "9. Defina a função conta que recebe como argumentos uma lista de números inteiros w e um\n",
    "número inteiro x e devolve o número de ocorrências de x em w.\n",
    "Exemplo: conta([1,2,3,2,1,2],1) = 2\n"
   ]
  },
  {
   "cell_type": "code",
   "execution_count": 18,
   "metadata": {},
   "outputs": [
    {
     "name": "stdout",
     "output_type": "stream",
     "text": [
      "1\n"
     ]
    }
   ],
   "source": [
    "def aux_conta(lista):\n",
    "    return reduce(lambda x,y:x+y,lista)\n",
    "def conta_lista(lista,num):\n",
    "    return aux_conta([1 if x==num else 0 for x in lista])\n",
    "print(conta_lista([1,2,3,2,1,2],3))    \n",
    "    "
   ]
  },
  {
   "cell_type": "markdown",
   "metadata": {},
   "source": [
    "10. Defina a função contem_parQ que recebe como argumento uma lista de números inteiros w e\n",
    "devolve True se w contém um número par e False em caso contrário.\n",
    "Exemplo: contem_parQ([3,5,7,9,11]) = False\n",
    "contem_parQ([3,4,7,9,11]) = True\n"
   ]
  },
  {
   "cell_type": "code",
   "execution_count": 25,
   "metadata": {},
   "outputs": [
    {
     "name": "stdout",
     "output_type": "stream",
     "text": [
      "False\n",
      "True\n"
     ]
    }
   ],
   "source": [
    "def aux_contem_par(lista):\n",
    "    if len(lista)== 0: return False\n",
    "    if lista[0] == True: return True\n",
    "    return aux_contem_par(lista[1:])\n",
    "\n",
    "def contem_parQ(lista):\n",
    "    return aux_contem_par([True if x%2==0 else False for x in lista])\n",
    "\n",
    "def contem_parQ2(lista):\n",
    "    if len(lista) == 0: return False\n",
    "    if lista[0]%2 == 0: return True\n",
    "    return contem_parQ(lista[1:])\n",
    "\n",
    "print(contem_parQ([3,1,7,9,11]))\n",
    "print(contem_parQ2([3,2,7,9,11]))"
   ]
  },
  {
   "cell_type": "markdown",
   "metadata": {},
   "source": [
    "11. Defina a função todos_imparesQ que recebe como argumento uma lista de números inteiros w e\n",
    "devolve True se w contém apenas números ímpares e False em caso contrário.\n",
    "Exemplo: todos_imparesQ([3,5,7,9,11]) = True\n",
    "todos_imparesQ([3,4,7,9,11]) = False"
   ]
  },
  {
   "cell_type": "code",
   "execution_count": 39,
   "metadata": {},
   "outputs": [
    {
     "name": "stdout",
     "output_type": "stream",
     "text": [
      "True\n"
     ]
    }
   ],
   "source": [
    "#INCOMPLETO POIS SE A LISTA FOR VAZIA ELA RETORNA TRUE\n",
    "def todos_imparesQ(lista):\n",
    "    if len(lista) == 0: return True\n",
    "    if lista[0]%2 != 0: return todos_imparesQ(lista[1:])\n",
    "    else: return False\n",
    "    \n",
    "print(todos_imparesQ([3,13,7,9,11]))"
   ]
  },
  {
   "cell_type": "markdown",
   "metadata": {},
   "source": [
    "12. Defina a função pertenceQ que recebe como argumentos uma lista de números inteiros w e um\n",
    "número inteiro n e devolve True se n ocorre em w e False em caso contrário.\n",
    "Exemplo: pertenceQ([1,2,3,4],5) = False\n",
    "pertenceQ([1,2,3,4],5) = True"
   ]
  },
  {
   "cell_type": "code",
   "execution_count": 45,
   "metadata": {},
   "outputs": [
    {
     "name": "stdout",
     "output_type": "stream",
     "text": [
      "True\n",
      "False\n"
     ]
    }
   ],
   "source": [
    "def pertenceQ(lista,num):\n",
    "    if len(lista) == 0: return False\n",
    "    if lista[0] == num: return True\n",
    "    return pertenceQ(lista[1:],num)\n",
    "\n",
    "print(pertenceQ([1,2,3,4],4))\n",
    "print(pertenceQ([1,2,3,4],5))"
   ]
  },
  {
   "cell_type": "markdown",
   "metadata": {},
   "source": [
    "13. Defina a função int_listaQ que recebe como argumento uma lista e devolve True se a lista for\n",
    "constituída exclusivamente por números inteiros e False em caso contrário.\n",
    "Exemplo: int_listaQ([1,2,-3,4,9]) = True\n",
    "int_listaQ([1.1,3,-3]) = False"
   ]
  },
  {
   "cell_type": "code",
   "execution_count": 53,
   "metadata": {},
   "outputs": [
    {
     "name": "stdout",
     "output_type": "stream",
     "text": [
      "False\n",
      "True\n"
     ]
    }
   ],
   "source": [
    "def int_listaQ(lista):\n",
    "    if len(lista) == 0: return True\n",
    "    if type(lista[0]) == (float): return False\n",
    "    return int_listaQ(lista[1:])\n",
    "    \n",
    "\n",
    "print(int_listaQ([1,2,-3.1,4,9]))\n",
    "print(int_listaQ([1,2,-3,4,9]))"
   ]
  },
  {
   "cell_type": "markdown",
   "metadata": {},
   "source": [
    "14. Defina a função nat_listaQ que recebe como argumento uma lista e devolve True se a lista for\n",
    "constituída exclusivamente por números naturais e False em caso contrário.\n",
    "Exemplo: nat_listaQ([1,2,3,-1]) = False\n",
    "natt_listaQ([1,2,3,4]) = False"
   ]
  },
  {
   "cell_type": "code",
   "execution_count": 55,
   "metadata": {},
   "outputs": [
    {
     "name": "stdout",
     "output_type": "stream",
     "text": [
      "False\n",
      "True\n"
     ]
    }
   ],
   "source": [
    "def nat_listaQ(lista):\n",
    "    if len(lista) == 0: return True\n",
    "    if lista[0] < 0: return False\n",
    "    return nat_listaQ(lista[1:])\n",
    "    \n",
    "\n",
    "print(nat_listaQ([1,2,-3,4,9]))\n",
    "print(nat_listaQ([1,2,3,4,9]))"
   ]
  },
  {
   "cell_type": "markdown",
   "metadata": {},
   "source": [
    "15. Defina a função int_lista_listaQ que recebe como argumento uma lista e devolve True se a lista\n",
    "for constituída exclusivamente por listas de números inteiros e False em caso contrário.\n",
    "Exemplo: int_lista_listaQ([[1,2,3],[4,5,6]]) = True\n",
    "int_lista_listaQ([[1,2,3],[\"ola\",3]]) = False\n",
    "int_lista_listaQ([1,[1,2,3],[4,5,6]]) = False"
   ]
  },
  {
   "cell_type": "code",
   "execution_count": 67,
   "metadata": {},
   "outputs": [
    {
     "name": "stdout",
     "output_type": "stream",
     "text": [
      "True\n"
     ]
    }
   ],
   "source": [
    "def aux_lista(lista):\n",
    "    if len(lista) == 0: return True\n",
    "    if type(lista[0]) != (int): return False\n",
    "    return aux_lista(lista[1:])\n",
    "\n",
    "def int_lista_listaQ(lista):\n",
    "    if len(lista) == 0: return True\n",
    "    if aux_lista(lista[0]) == False: return False\n",
    "    return int_lista_listaQ(lista[1:])\n",
    "\n",
    "print(int_lista_listaQ([[]]))    "
   ]
  },
  {
   "cell_type": "code",
   "execution_count": null,
   "metadata": {},
   "outputs": [],
   "source": []
  }
 ],
 "metadata": {
  "kernelspec": {
   "display_name": "Python 3.10.2 64-bit",
   "language": "python",
   "name": "python3"
  },
  "language_info": {
   "codemirror_mode": {
    "name": "ipython",
    "version": 3
   },
   "file_extension": ".py",
   "mimetype": "text/x-python",
   "name": "python",
   "nbconvert_exporter": "python",
   "pygments_lexer": "ipython3",
   "version": "3.10.2"
  },
  "orig_nbformat": 4,
  "vscode": {
   "interpreter": {
    "hash": "898e58e1e32941f56aba553d48693483bb9c026c2e5881ea5f73578134edad48"
   }
  }
 },
 "nbformat": 4,
 "nbformat_minor": 2
}
