{
 "cells": [
  {
   "cell_type": "code",
   "execution_count": 2,
   "metadata": {},
   "outputs": [],
   "source": [
    "from functools import reduce"
   ]
  },
  {
   "cell_type": "markdown",
   "metadata": {},
   "source": [
    "1. Defina a função soma_nat que recebe como argumento um número natural n e devolve a soma\n",
    "de todos os números naturais até n.\n",
    "Exemplo: soma_nat(10) = 1+2+3+4+5+6+7+8+9+10=55"
   ]
  },
  {
   "cell_type": "code",
   "execution_count": null,
   "metadata": {},
   "outputs": [],
   "source": [
    "def soma_nat(n):\n",
    "    return reduce(lambda x,y: x+y,list(range(1,n+1)))\n",
    "print(soma_nat(10))\n",
    "        "
   ]
  },
  {
   "cell_type": "markdown",
   "metadata": {},
   "source": [
    "2. Defina a função quadrados que recebe como argumento um número natural n devolve a lista\n",
    "dos n primeiros quadrados perfeitos.\n",
    "Exemplo: quadrados(5) = [1, 4, 9, 16, 25]\n"
   ]
  },
  {
   "cell_type": "code",
   "execution_count": null,
   "metadata": {},
   "outputs": [],
   "source": [
    "def lista_quadrados(n):\n",
    "    return list(map(lambda x: x**2,list(range(1,n+1))))\n",
    "print(lista_quadrados(5))"
   ]
  },
  {
   "cell_type": "markdown",
   "metadata": {},
   "source": [
    "3. Defina a função quadrados_inv que recebe como argumento um número natural n devolve a\n",
    "lista dos n primeiros quadrados perfeitos, por ordem decrescente.\n",
    "Exemplo: quadrados_inv(5) = [25, 16, 9, 4, 1]\n"
   ]
  },
  {
   "cell_type": "code",
   "execution_count": null,
   "metadata": {},
   "outputs": [],
   "source": [
    "def lista_quadrados_inv(n):\n",
    "    return list(map(lambda x: x**2,list(range(n,0,-1))))\n",
    "print(lista_quadrados_inv(5))"
   ]
  },
  {
   "cell_type": "markdown",
   "metadata": {},
   "source": [
    "4. Defina a função num_perf que recebe como argumento um número inteiro positivo e devolve\n",
    "True se esse número for um número perfeito e False em caso contrário. Lembre que um número\n",
    "perfeito é um número natural que é igual à soma de todos os seus divisores próprios, isto é, a\n",
    "soma de todos os divisores excluindo o próprio número. Pode-se definir funções auxiliares,\n",
    "desde que definidas no paradigma funcional.\n",
    "Exemplo: num_perf(6) = TRUE … (1+2+3=6)\n",
    "num_perf(5) = FALSE\n"
   ]
  },
  {
   "cell_type": "code",
   "execution_count": null,
   "metadata": {},
   "outputs": [],
   "source": [
    "def is_perf(n):\n",
    "    return [x for x in list(range(n-1,0,-1)) if n%x==0]\n",
    "\n",
    "def num_perf(m):\n",
    "    if reduce(lambda x,y: x+y,is_perf(m)) == m:\n",
    "        return True\n",
    "    else:\n",
    "        return False\n",
    "print(num_perf(6))\n",
    "    "
   ]
  },
  {
   "cell_type": "markdown",
   "metadata": {},
   "source": [
    "5. Defina a função inverte_lista que recebe como argumento uma lista e devolve essa lista\n",
    "invertida.\n",
    "Exemplo: inverteLista([1,2,3]) = [3, 2, 1]"
   ]
  },
  {
   "cell_type": "code",
   "execution_count": 54,
   "metadata": {},
   "outputs": [
    {
     "name": "stdout",
     "output_type": "stream",
     "text": [
      "[3, 2, 1]\n",
      "[9, 8, 7, 6, 5, 4, 3, 2, 1]\n"
     ]
    }
   ],
   "source": [
    "def inverte_lista(lista):\n",
    "    return [x for x in reversed(lista)]\n",
    "print(inverte_lista(list(range(1,4))))  \n",
    "# Provavelmente o Sr nao irá aceitar essa questão, pq utilizei uma função que já inverte a lista kkkkkkk\n",
    "# então dei uma pesquisada de como manipular uma lista\n",
    "# https://raccoon.ninja/pt/dev-pt/manipulando-listas-com-python-dev/\n",
    "def inverte_lista2(lista):\n",
    "    if len(lista) <= 1: return lista\n",
    "    return lista[-1:] + inverte_lista2(lista[:-1])\n",
    "print(inverte_lista2(list(range(1,10))))  "
   ]
  },
  {
   "cell_type": "markdown",
   "metadata": {},
   "source": [
    "6. Defina a função indices_pares que recebe como argumento uma lista de números inteiros w e\n",
    "devolve a lista dos elementos de w em posições pares.\n",
    "Exemplo: indices_pares([4,3,7,1,2,9]) = [4, 7, 2]"
   ]
  },
  {
   "cell_type": "code",
   "execution_count": null,
   "metadata": {},
   "outputs": [],
   "source": [
    "def indices_pares(lista):\n",
    "    return [x for x in lista[::2]]\n",
    "\n",
    "print(indices_pares([4,3,7,1,2,9]))"
   ]
  },
  {
   "cell_type": "markdown",
   "metadata": {},
   "source": [
    "7. Defina a função triangulo que recebe como argumento um número natural n e devolve uma lista\n",
    "em que o primeiro elemento é a lista [1], o segundo elemento é a lista [1, 2] e assim\n",
    "sucessivamente até n.\n",
    "Exemplo: triangulo(4) = [[1], [1, 2], [1, 2, 3], [1, 2, 3, 4]]"
   ]
  },
  {
   "cell_type": "code",
   "execution_count": 19,
   "metadata": {},
   "outputs": [
    {
     "name": "stdout",
     "output_type": "stream",
     "text": [
      "[[1], [1, 2], [1, 2, 3], [1, 2, 3, 4], [1, 2, 3, 4, 5]]\n"
     ]
    }
   ],
   "source": [
    "def triangulo(n):\n",
    "    return [[x+1 for x in list(range(i+1))] for i in list(range(n))]\n",
    "print(triangulo(5))"
   ]
  },
  {
   "cell_type": "markdown",
   "metadata": {},
   "source": [
    "8. Defina a função prod_lista que recebe como argumento uma lista de números inteiros e devolve\n",
    "o produto dos seus elementos.\n",
    "Exemplo: prod_lista([2,4,6]) = 48\n",
    "prod_lista([]) = 1"
   ]
  },
  {
   "cell_type": "code",
   "execution_count": null,
   "metadata": {},
   "outputs": [],
   "source": [
    "def prod_lista(lista):\n",
    "    if not lista: return 1\n",
    "    return reduce(lambda x,y: x*y,lista)\n",
    "print(prod_lista([2,4,6]))"
   ]
  },
  {
   "cell_type": "markdown",
   "metadata": {},
   "source": [
    "9. Defina a função conta que recebe como argumentos uma lista de números inteiros w e um\n",
    "número inteiro x e devolve o número de ocorrências de x em w.\n",
    "Exemplo: conta([1,2,3,2,1,2],1) = 2\n"
   ]
  },
  {
   "cell_type": "code",
   "execution_count": 18,
   "metadata": {},
   "outputs": [
    {
     "name": "stdout",
     "output_type": "stream",
     "text": [
      "1\n"
     ]
    }
   ],
   "source": [
    "def aux_conta(lista):\n",
    "    return reduce(lambda x,y:x+y,lista)\n",
    "def conta_lista(lista,num):\n",
    "    return aux_conta([1 if x==num else 0 for x in lista])\n",
    "print(conta_lista([1,2,3,2,1,2],3))    \n",
    "    "
   ]
  },
  {
   "cell_type": "markdown",
   "metadata": {},
   "source": [
    "10. Defina a função contem_parQ que recebe como argumento uma lista de números inteiros w e\n",
    "devolve True se w contém um número par e False em caso contrário.\n",
    "Exemplo: contem_parQ([3,5,7,9,11]) = False\n",
    "contem_parQ([3,4,7,9,11]) = True\n"
   ]
  },
  {
   "cell_type": "code",
   "execution_count": 25,
   "metadata": {},
   "outputs": [
    {
     "name": "stdout",
     "output_type": "stream",
     "text": [
      "False\n",
      "True\n"
     ]
    }
   ],
   "source": [
    "def aux_contem_par(lista):\n",
    "    if len(lista)== 0: return False\n",
    "    if lista[0] == True: return True\n",
    "    return aux_contem_par(lista[1:])\n",
    "\n",
    "def contem_parQ(lista):\n",
    "    return aux_contem_par([True if x%2==0 else False for x in lista])\n",
    "\n",
    "def contem_parQ2(lista):\n",
    "    if len(lista) == 0: return False\n",
    "    if lista[0]%2 == 0: return True\n",
    "    return contem_parQ(lista[1:])\n",
    "\n",
    "print(contem_parQ([3,1,7,9,11]))\n",
    "print(contem_parQ2([3,2,7,9,11]))"
   ]
  },
  {
   "cell_type": "markdown",
   "metadata": {},
   "source": [
    "11. Defina a função todos_imparesQ que recebe como argumento uma lista de números inteiros w e\n",
    "devolve True se w contém apenas números ímpares e False em caso contrário.\n",
    "Exemplo: todos_imparesQ([3,5,7,9,11]) = True\n",
    "todos_imparesQ([3,4,7,9,11]) = False"
   ]
  },
  {
   "cell_type": "code",
   "execution_count": 39,
   "metadata": {},
   "outputs": [
    {
     "name": "stdout",
     "output_type": "stream",
     "text": [
      "True\n"
     ]
    }
   ],
   "source": [
    "#INCOMPLETO POIS SE A LISTA FOR VAZIA ELA RETORNA TRUE\n",
    "def todos_imparesQ(lista):\n",
    "    if len(lista) == 0: return True\n",
    "    if lista[0]%2 != 0: return todos_imparesQ(lista[1:])\n",
    "    else: return False\n",
    "    \n",
    "print(todos_imparesQ([3,13,7,9,11]))"
   ]
  },
  {
   "cell_type": "markdown",
   "metadata": {},
   "source": [
    "12. Defina a função pertenceQ que recebe como argumentos uma lista de números inteiros w e um\n",
    "número inteiro n e devolve True se n ocorre em w e False em caso contrário.\n",
    "Exemplo: pertenceQ([1,2,3,4],5) = False\n",
    "pertenceQ([1,2,3,4],5) = True"
   ]
  },
  {
   "cell_type": "code",
   "execution_count": 45,
   "metadata": {},
   "outputs": [
    {
     "name": "stdout",
     "output_type": "stream",
     "text": [
      "True\n",
      "False\n"
     ]
    }
   ],
   "source": [
    "def pertenceQ(lista,num):\n",
    "    if len(lista) == 0: return False\n",
    "    if lista[0] == num: return True\n",
    "    return pertenceQ(lista[1:],num)\n",
    "\n",
    "print(pertenceQ([1,2,3,4],4))\n",
    "print(pertenceQ([1,2,3,4],5))"
   ]
  },
  {
   "cell_type": "markdown",
   "metadata": {},
   "source": [
    "13. Defina a função int_listaQ que recebe como argumento uma lista e devolve True se a lista for\n",
    "constituída exclusivamente por números inteiros e False em caso contrário.\n",
    "Exemplo: int_listaQ([1,2,-3,4,9]) = True\n",
    "int_listaQ([1.1,3,-3]) = False"
   ]
  },
  {
   "cell_type": "code",
   "execution_count": 53,
   "metadata": {},
   "outputs": [
    {
     "name": "stdout",
     "output_type": "stream",
     "text": [
      "False\n",
      "True\n"
     ]
    }
   ],
   "source": [
    "def int_listaQ(lista):\n",
    "    if len(lista) == 0: return True\n",
    "    if type(lista[0]) == (float): return False\n",
    "    return int_listaQ(lista[1:])\n",
    "    \n",
    "\n",
    "print(int_listaQ([1,2,-3.1,4,9]))\n",
    "print(int_listaQ([1,2,-3,4,9]))"
   ]
  },
  {
   "cell_type": "markdown",
   "metadata": {},
   "source": [
    "14. Defina a função nat_listaQ que recebe como argumento uma lista e devolve True se a lista for\n",
    "constituída exclusivamente por números naturais e False em caso contrário.\n",
    "Exemplo: nat_listaQ([1,2,3,-1]) = False\n",
    "natt_listaQ([1,2,3,4]) = False"
   ]
  },
  {
   "cell_type": "code",
   "execution_count": 55,
   "metadata": {},
   "outputs": [
    {
     "name": "stdout",
     "output_type": "stream",
     "text": [
      "False\n",
      "True\n"
     ]
    }
   ],
   "source": [
    "def nat_listaQ(lista):\n",
    "    if len(lista) == 0: return True\n",
    "    if lista[0] < 0: return False\n",
    "    return nat_listaQ(lista[1:])\n",
    "    \n",
    "\n",
    "print(nat_listaQ([1,2,-3,4,9]))\n",
    "print(nat_listaQ([1,2,3,4,9]))"
   ]
  },
  {
   "cell_type": "markdown",
   "metadata": {},
   "source": [
    "15. Defina a função int_lista_listaQ que recebe como argumento uma lista e devolve True se a lista\n",
    "for constituída exclusivamente por listas de números inteiros e False em caso contrário.\n",
    "Exemplo: int_lista_listaQ([[1,2,3],[4,5,6]]) = True\n",
    "int_lista_listaQ([[1,2,3],[\"ola\",3]]) = False\n",
    "int_lista_listaQ([1,[1,2,3],[4,5,6]]) = False"
   ]
  },
  {
   "cell_type": "code",
   "execution_count": 7,
   "metadata": {},
   "outputs": [
    {
     "name": "stdout",
     "output_type": "stream",
     "text": [
      "False\n",
      "True\n"
     ]
    }
   ],
   "source": [
    "#***#\n",
    "def aux_lista(lista):\n",
    "    if len(lista) == 0: return True\n",
    "    if type(lista[0]) != (int): return False\n",
    "    return aux_lista(lista[1:])\n",
    "\n",
    "def int_lista_listaQ(lista):\n",
    "    if len(lista) == 0: return True\n",
    "    if aux_lista(lista[0]) == False: return False\n",
    "    return int_lista_listaQ(lista[1:])\n",
    "\n",
    "print(int_lista_listaQ([[\"ola\"]]))\n",
    "print(int_lista_listaQ([[1,2,3],[4,5,6]]))    "
   ]
  },
  {
   "cell_type": "markdown",
   "metadata": {},
   "source": [
    "16. Defina a função escolhe_pares que recebe como argumento uma lista de números inteiros w e\n",
    "devolve a lista dos elementos pares de w.\n",
    "Exemplo: escolhe_pares([1,2,3,4,5,6,7,8]) = [2, 4, 6, 8]"
   ]
  },
  {
   "cell_type": "code",
   "execution_count": 1,
   "metadata": {},
   "outputs": [
    {
     "name": "stdout",
     "output_type": "stream",
     "text": [
      "[2, 4, 6, 8]\n"
     ]
    }
   ],
   "source": [
    "def escolhe_pares(lista):\n",
    "    return list(filter(lambda x: x%2==0,lista))\n",
    "print(escolhe_pares([1,2,3,4,5,6,7,8]))"
   ]
  },
  {
   "cell_type": "markdown",
   "metadata": {},
   "source": [
    "17. Defina a função int_matrizQ que recebe como argumento uma lista m e devolve True se m for\n",
    "uma matriz de números inteiros e False em caso contrário.\n",
    "Exemplo: int_matrizQ([[1,2],[4,5],[7,8]]) = True\n",
    "int_matrizQ([[1,2],[4],[7,8]]) = False\n",
    "int_matrizQ([[1,2],[4],7]) = False"
   ]
  },
  {
   "cell_type": "code",
   "execution_count": null,
   "metadata": {},
   "outputs": [],
   "source": [
    "#***#\n",
    "\n",
    "    "
   ]
  },
  {
   "cell_type": "markdown",
   "metadata": {},
   "source": [
    "18. Defina a função retira_negativos que recebe como argumento uma lista de números inteiros e\n",
    "devolve a lista resultante de retirar todos os números negativos.\n",
    "Exemplo: retira_negativos([1,2,3,-4,5,-6]) = [1, 2, 3, 5]\n"
   ]
  },
  {
   "cell_type": "code",
   "execution_count": 10,
   "metadata": {},
   "outputs": [
    {
     "name": "stdout",
     "output_type": "stream",
     "text": [
      "[1, 2, 3, 5]\n"
     ]
    }
   ],
   "source": [
    "def retira_negativos(lista):\n",
    "    return list(filter(lambda x: x>=0,lista))\n",
    "print(retira_negativos([1,2,3,-4,5,-6]))"
   ]
  },
  {
   "cell_type": "markdown",
   "metadata": {},
   "source": [
    "19. Defina a função div que recebe como argumentos dois números naturais m e n e devolve o\n",
    "resultado da divisão inteira de m por n. Neste exercício não pode recorrer às operações\n",
    "aritméticas de multiplicação, divisão e resto da divisão inteira.\n",
    "Exemplo: div(7,2) = 3"
   ]
  },
  {
   "cell_type": "code",
   "execution_count": 17,
   "metadata": {},
   "outputs": [
    {
     "name": "stdout",
     "output_type": "stream",
     "text": [
      "3\n"
     ]
    }
   ],
   "source": [
    "def div(m,n):\n",
    "    return (int)(m/n)\n",
    "print(div(7,2))"
   ]
  },
  {
   "cell_type": "markdown",
   "metadata": {},
   "source": [
    "20. Defina a função prim_alg que recebe como argumento um número natural n e devolve o\n",
    "primeiro algarismo (o mais significativo) na representação decimal de n.\n",
    "Exemplo: prim_alg(8935) = 8"
   ]
  },
  {
   "cell_type": "code",
   "execution_count": 31,
   "metadata": {},
   "outputs": [
    {
     "name": "stdout",
     "output_type": "stream",
     "text": [
      "8\n"
     ]
    }
   ],
   "source": [
    "def prim_alg(m):\n",
    "    return int(str(m)[0])\n",
    "print(prim_alg(8648))"
   ]
  },
  {
   "cell_type": "markdown",
   "metadata": {},
   "source": [
    "21. Defina a função media_digitos que recebe como argumento um número natural e devolve a\n",
    "média dos seus dígitos.\n",
    "Exemplo: media_digitos(14276) = 4.0"
   ]
  },
  {
   "cell_type": "code",
   "execution_count": 52,
   "metadata": {},
   "outputs": [
    {
     "name": "stdout",
     "output_type": "stream",
     "text": [
      "4.0\n"
     ]
    }
   ],
   "source": [
    "def aux_media_digitos(n):\n",
    "    return reduce(lambda x,y:x+y,[int(x) for x in n]) \n",
    "def media_digitos(n):\n",
    "    return float(int(aux_media_digitos(str(n))))/len(str(n))\n",
    "print(media_digitos(14276))"
   ]
  },
  {
   "cell_type": "markdown",
   "metadata": {},
   "source": [
    "22. Defina a função permutacao que recebe como argumentos duas listas w1 e w2 e devolve True se\n",
    "w2 for permutação de w1, e devolve False em caso contrário.\n",
    "Exemplo: permutacao([1,2,3],[3,2,1]) = True\n",
    "permutacao([1,1,2,3],[3,2,1]) = False"
   ]
  },
  {
   "cell_type": "code",
   "execution_count": 57,
   "metadata": {},
   "outputs": [
    {
     "name": "stdout",
     "output_type": "stream",
     "text": [
      "True\n",
      "False\n"
     ]
    }
   ],
   "source": [
    "#FUNACAO INVESTE_LISTA2 UTILIZADA DA QUESTAO 5\n",
    "def inverte_lista2(lista):\n",
    "    if len(lista) <= 1: return lista\n",
    "    return lista[-1:] + inverte_lista2(lista[:-1])\n",
    "\n",
    "def permutacao(lista1,lista2):\n",
    "    if lista1 == inverte_lista2(lista2): return True\n",
    "    else: return False\n",
    "print(permutacao([1,2,3],[3,2,1]))\n",
    "print(permutacao([1,1,2,3],[3,2,1]))\n"
   ]
  },
  {
   "cell_type": "markdown",
   "metadata": {},
   "source": [
    "23. Defina função comprimento que recebe como argumento uma lista e devolve o seu\n",
    "comprimento. Não pode, como é óbvio, recorrer à função len.\n",
    "Exemplo: comprimento([2,3,5,2,2]) = 5"
   ]
  },
  {
   "cell_type": "code",
   "execution_count": 67,
   "metadata": {},
   "outputs": [
    {
     "name": "stdout",
     "output_type": "stream",
     "text": [
      "5\n",
      "100\n"
     ]
    }
   ],
   "source": [
    "def comprimento(lista):\n",
    "    return reduce(lambda x,y:x+y,[1 for x in lista])\n",
    "print(comprimento([2,3,5,2,2]))\n",
    "print(comprimento(list(range(0,100))))"
   ]
  },
  {
   "cell_type": "markdown",
   "metadata": {},
   "source": [
    "24. Defina a função intercala que recebe como argumentos duas listas w1 e w2 e devolve a lista\n",
    "resultante de intercalar os elementos de w1 com os de w2.\n",
    "Exemplo: intercala([1,3,5],[2,4,6]) = [1, 2, 3, 4, 5, 6]\n",
    "intercala([1,3,5,7],[2]) = [1, 2, 3, 5, 7]"
   ]
  },
  {
   "cell_type": "code",
   "execution_count": 96,
   "metadata": {},
   "outputs": [
    {
     "ename": "TypeError",
     "evalue": "'list' object is not callable",
     "output_type": "error",
     "traceback": [
      "\u001b[1;31m---------------------------------------------------------------------------\u001b[0m",
      "\u001b[1;31mTypeError\u001b[0m                                 Traceback (most recent call last)",
      "\u001b[1;32mc:\\Users\\Caio Grimm\\OneDrive\\Área de Trabalho\\Paradigmas-LP\\Funcional\\Exercicio 6\\questao_1a30.ipynb Célula: 49\u001b[0m in \u001b[0;36m<cell line: 13>\u001b[1;34m()\u001b[0m\n\u001b[0;32m     <a href='vscode-notebook-cell:/c%3A/Users/Caio%20Grimm/OneDrive/%C3%81rea%20de%20Trabalho/Paradigmas-LP/Funcional/Exercicio%206/questao_1a30.ipynb#ch0000053?line=10'>11</a>\u001b[0m \u001b[39mdef\u001b[39;00m \u001b[39mintercala\u001b[39m(lista1,lista2):\n\u001b[0;32m     <a href='vscode-notebook-cell:/c%3A/Users/Caio%20Grimm/OneDrive/%C3%81rea%20de%20Trabalho/Paradigmas-LP/Funcional/Exercicio%206/questao_1a30.ipynb#ch0000053?line=11'>12</a>\u001b[0m     \u001b[39mreturn\u001b[39;00m [i \u001b[39mfor\u001b[39;00m j \u001b[39min\u001b[39;00m \u001b[39mmap\u001b[39m(lista1,lista2) \u001b[39mfor\u001b[39;00m i \u001b[39min\u001b[39;00m j]\n\u001b[1;32m---> <a href='vscode-notebook-cell:/c%3A/Users/Caio%20Grimm/OneDrive/%C3%81rea%20de%20Trabalho/Paradigmas-LP/Funcional/Exercicio%206/questao_1a30.ipynb#ch0000053?line=12'>13</a>\u001b[0m \u001b[39mprint\u001b[39m(intercala([\u001b[39m1\u001b[39;49m,\u001b[39m3\u001b[39;49m,\u001b[39m5\u001b[39;49m],[\u001b[39m2\u001b[39;49m,\u001b[39m4\u001b[39;49m,\u001b[39m6\u001b[39;49m]))\n",
      "\u001b[1;32mc:\\Users\\Caio Grimm\\OneDrive\\Área de Trabalho\\Paradigmas-LP\\Funcional\\Exercicio 6\\questao_1a30.ipynb Célula: 49\u001b[0m in \u001b[0;36mintercala\u001b[1;34m(lista1, lista2)\u001b[0m\n\u001b[0;32m     <a href='vscode-notebook-cell:/c%3A/Users/Caio%20Grimm/OneDrive/%C3%81rea%20de%20Trabalho/Paradigmas-LP/Funcional/Exercicio%206/questao_1a30.ipynb#ch0000053?line=10'>11</a>\u001b[0m \u001b[39mdef\u001b[39;00m \u001b[39mintercala\u001b[39m(lista1,lista2):\n\u001b[1;32m---> <a href='vscode-notebook-cell:/c%3A/Users/Caio%20Grimm/OneDrive/%C3%81rea%20de%20Trabalho/Paradigmas-LP/Funcional/Exercicio%206/questao_1a30.ipynb#ch0000053?line=11'>12</a>\u001b[0m     \u001b[39mreturn\u001b[39;00m [i \u001b[39mfor\u001b[39;00m j \u001b[39min\u001b[39;00m \u001b[39mmap\u001b[39m(lista1,lista2) \u001b[39mfor\u001b[39;00m i \u001b[39min\u001b[39;00m j]\n",
      "\u001b[1;32mc:\\Users\\Caio Grimm\\OneDrive\\Área de Trabalho\\Paradigmas-LP\\Funcional\\Exercicio 6\\questao_1a30.ipynb Célula: 49\u001b[0m in \u001b[0;36m<listcomp>\u001b[1;34m(.0)\u001b[0m\n\u001b[0;32m     <a href='vscode-notebook-cell:/c%3A/Users/Caio%20Grimm/OneDrive/%C3%81rea%20de%20Trabalho/Paradigmas-LP/Funcional/Exercicio%206/questao_1a30.ipynb#ch0000053?line=10'>11</a>\u001b[0m \u001b[39mdef\u001b[39;00m \u001b[39mintercala\u001b[39m(lista1,lista2):\n\u001b[1;32m---> <a href='vscode-notebook-cell:/c%3A/Users/Caio%20Grimm/OneDrive/%C3%81rea%20de%20Trabalho/Paradigmas-LP/Funcional/Exercicio%206/questao_1a30.ipynb#ch0000053?line=11'>12</a>\u001b[0m     \u001b[39mreturn\u001b[39;00m [i \u001b[39mfor\u001b[39;00m j \u001b[39min\u001b[39;00m \u001b[39mmap\u001b[39m(lista1,lista2) \u001b[39mfor\u001b[39;00m i \u001b[39min\u001b[39;00m j]\n",
      "\u001b[1;31mTypeError\u001b[0m: 'list' object is not callable"
     ]
    }
   ],
   "source": [
    "def intercala(lista1,lista2):\n",
    "    if len(lista1) <= 1: return lista1\n",
    "    return str(lista1[0]) + str(lista2[0]) + intercala(lista1[1:],lista2[1:])\n",
    "# nome = [1,2,3]\n",
    "# nome2 = 'jose'\n",
    "# print(type(str(nome[0])))\n",
    "# print(nome[0])\n",
    "#soma = nome[0] + nome2[0] \n",
    "#print(soma)\n",
    "\n",
    "print(intercala([1,3,5],[2,4,6]))\n",
    "\n"
   ]
  },
  {
   "cell_type": "code",
   "execution_count": null,
   "metadata": {},
   "outputs": [],
   "source": []
  }
 ],
 "metadata": {
  "kernelspec": {
   "display_name": "Python 3.10.5 64-bit",
   "language": "python",
   "name": "python3"
  },
  "language_info": {
   "codemirror_mode": {
    "name": "ipython",
    "version": 3
   },
   "file_extension": ".py",
   "mimetype": "text/x-python",
   "name": "python",
   "nbconvert_exporter": "python",
   "pygments_lexer": "ipython3",
   "version": "3.10.5"
  },
  "orig_nbformat": 4,
  "vscode": {
   "interpreter": {
    "hash": "92e82b21127327d82829ed7f76f9e53ce4c7958c1603e5fc3050fb0080c6224d"
   }
  }
 },
 "nbformat": 4,
 "nbformat_minor": 2
}
