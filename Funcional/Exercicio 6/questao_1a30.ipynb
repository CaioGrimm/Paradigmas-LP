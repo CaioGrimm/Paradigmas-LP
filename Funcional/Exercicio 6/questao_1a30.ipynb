{
 "cells": [
  {
   "cell_type": "code",
   "execution_count": null,
   "metadata": {},
   "outputs": [],
   "source": [
    "from functools import reduce"
   ]
  },
  {
   "cell_type": "markdown",
   "metadata": {},
   "source": [
    "1. Defina a função soma_nat que recebe como argumento um número natural n e devolve a soma\n",
    "de todos os números naturais até n.\n",
    "Exemplo: soma_nat(10) = 1+2+3+4+5+6+7+8+9+10=55"
   ]
  },
  {
   "cell_type": "code",
   "execution_count": null,
   "metadata": {},
   "outputs": [],
   "source": [
    "def soma_nat(n):\n",
    "    return reduce(lambda x,y: x+y,list(range(1,n+1)))\n",
    "print(soma_nat(10))\n",
    "        "
   ]
  },
  {
   "cell_type": "markdown",
   "metadata": {},
   "source": [
    "2. Defina a função quadrados que recebe como argumento um número natural n devolve a lista\n",
    "dos n primeiros quadrados perfeitos.\n",
    "Exemplo: quadrados(5) = [1, 4, 9, 16, 25]\n"
   ]
  },
  {
   "cell_type": "code",
   "execution_count": null,
   "metadata": {},
   "outputs": [],
   "source": [
    "def lista_quadrados(n):\n",
    "    return list(map(lambda x: x**2,list(range(1,n+1))))\n",
    "print(lista_quadrados(5))"
   ]
  },
  {
   "cell_type": "markdown",
   "metadata": {},
   "source": [
    "3. Defina a função quadrados_inv que recebe como argumento um número natural n devolve a\n",
    "lista dos n primeiros quadrados perfeitos, por ordem decrescente.\n",
    "Exemplo: quadrados_inv(5) = [25, 16, 9, 4, 1]\n"
   ]
  },
  {
   "cell_type": "code",
   "execution_count": null,
   "metadata": {},
   "outputs": [],
   "source": [
    "def lista_quadrados_inv(n):\n",
    "    return list(map(lambda x: x**2,list(range(n,0,-1))))\n",
    "print(lista_quadrados_inv(5))"
   ]
  },
  {
   "cell_type": "markdown",
   "metadata": {},
   "source": [
    "4. Defina a função num_perf que recebe como argumento um número inteiro positivo e devolve\n",
    "True se esse número for um número perfeito e False em caso contrário. Lembre que um número\n",
    "perfeito é um número natural que é igual à soma de todos os seus divisores próprios, isto é, a\n",
    "soma de todos os divisores excluindo o próprio número. Pode-se definir funções auxiliares,\n",
    "desde que definidas no paradigma funcional.\n",
    "Exemplo: num_perf(6) = TRUE … (1+2+3=6)\n",
    "num_perf(5) = FALSE\n"
   ]
  },
  {
   "cell_type": "code",
   "execution_count": null,
   "metadata": {},
   "outputs": [],
   "source": [
    "def is_perf(n):\n",
    "    return [x for x in list(range(n-1,0,-1)) if n%x==0]\n",
    "\n",
    "def num_perf(m):\n",
    "    if reduce(lambda x,y: x+y,is_perf(m)) == m:\n",
    "        return True\n",
    "    else:\n",
    "        return False\n",
    "print(num_perf(6))\n",
    "    "
   ]
  },
  {
   "cell_type": "markdown",
   "metadata": {},
   "source": [
    "5. Defina a função inverte_lista que recebe como argumento uma lista e devolve essa lista\n",
    "invertida.\n",
    "Exemplo: inverteLista([1,2,3]) = [3, 2, 1]"
   ]
  },
  {
   "cell_type": "code",
   "execution_count": null,
   "metadata": {},
   "outputs": [],
   "source": [
    "def inverte_lista(lista):\n",
    "    return [x for x in reversed(lista)]\n",
    "print(inverte_lista(list(range(1,4))))  \n",
    "# Provavelmente o Sr nao irá aceitar essa questão, pq utilizei uma função que já inverte a lista kkkkkkk\n",
    "# então dei uma pesquisada de como manipular uma lista\n",
    "# https://raccoon.ninja/pt/dev-pt/manipulando-listas-com-python-dev/\n",
    "def inverte_lista2(lista):\n",
    "    if len(lista) <= 1: return lista\n",
    "    return lista[-1:] + inverte_lista2(lista[:-1])\n",
    "print(inverte_lista2(list(range(1,10))))  "
   ]
  },
  {
   "cell_type": "markdown",
   "metadata": {},
   "source": [
    "6. Defina a função indices_pares que recebe como argumento uma lista de números inteiros w e\n",
    "devolve a lista dos elementos de w em posições pares.\n",
    "Exemplo: indices_pares([4,3,7,1,2,9]) = [4, 7, 2]"
   ]
  },
  {
   "cell_type": "code",
   "execution_count": null,
   "metadata": {},
   "outputs": [],
   "source": [
    "def indices_pares(lista):\n",
    "    return [x for x in lista[::2]]\n",
    "\n",
    "print(indices_pares([4,3,7,1,2,9]))\n",
    "\n"
   ]
  },
  {
   "cell_type": "markdown",
   "metadata": {},
   "source": []
  },
  {
   "cell_type": "code",
   "execution_count": null,
   "metadata": {},
   "outputs": [],
   "source": []
  }
 ],
 "metadata": {
  "kernelspec": {
   "display_name": "Python 3.10.2 64-bit",
   "language": "python",
   "name": "python3"
  },
  "language_info": {
   "codemirror_mode": {
    "name": "ipython",
    "version": 3
   },
   "file_extension": ".py",
   "mimetype": "text/x-python",
   "name": "python",
   "nbconvert_exporter": "python",
   "pygments_lexer": "ipython3",
   "version": "3.10.2"
  },
  "orig_nbformat": 4,
  "vscode": {
   "interpreter": {
    "hash": "898e58e1e32941f56aba553d48693483bb9c026c2e5881ea5f73578134edad48"
   }
  }
 },
 "nbformat": 4,
 "nbformat_minor": 2
}
